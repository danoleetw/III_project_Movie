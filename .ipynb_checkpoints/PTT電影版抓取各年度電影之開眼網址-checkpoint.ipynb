{
 "cells": [
  {
   "cell_type": "code",
   "execution_count": null,
   "metadata": {
    "collapsed": true
   },
   "outputs": [],
   "source": [
    "import requests as r\n",
    "from bs4 import BeautifulSoup\n",
    "import json\n",
    "\n",
    "#抓PTT精華版--年度台灣上映電影列表\n",
    "def ptt_movie_beta(url):   \n",
    "    res = r.get(url)\n",
    "    soup = BeautifulSoup(res.text, 'lxml')\n",
    "    title_list = soup.find_all('div', class_='title')\n",
    "    ptt_year_list = []\n",
    "    for title in title_list:\n",
    "        if title.a:\n",
    "            ptt_year_list.append(\"https://www.ptt.cc\" + title.a['href'])\n",
    "    return ptt_year_list\n",
    "\t\n",
    "#抓PTT內文各電影之開眼連結網址\n",
    "def ptt_movies_list(url):    \n",
    "    ppt_movies_list = []\n",
    "    res = r.get(url)\n",
    "    soup = BeautifulSoup(res.text, 'lxml')\n",
    "    every_movie_list = soup.find_all('a')\n",
    "    for m in every_movie_list:\n",
    "        href = m['href']\n",
    "        if 'http' in href:\n",
    "            ppt_movies_list.append(href)\n",
    "    return ppt_movies_list\n",
    "\t\n",
    "#MAIN\n",
    "url = \"https://www.ptt.cc/man/movie/D56/D230/index.html\"\n",
    "ptt_year_list = ['https://www.ptt.cc/bbs/movie/M.1355408652.A.63A.html',\n",
    "                 'https://www.ptt.cc/bbs/movie/M.1356346503.A.450.html',\n",
    "                 'https://www.ptt.cc/bbs/movie/M.1359177381.A.2E7.html',\n",
    "                 'https://www.ptt.cc/bbs/movie/M.1356920875.A.E27.html']\n",
    "for a in ptt_movie_beta(url):\n",
    "    ptt_year_list.append(a)\n",
    "\n",
    "ppt_movies_list = []    \n",
    "for year in ptt_year_list:\n",
    "    for a in ptt_movies_list(year):\n",
    "        ppt_movies_list.append(a)\n",
    "\n",
    "#找到未在精華版上的各年電影列表之網址\n",
    "# y2004 = \"https://www.ptt.cc/bbs/movie/M.1355408652.A.63A.html\"\n",
    "# y2005 = \"https://www.ptt.cc/bbs/movie/M.1356346503.A.450.html\"\n",
    "# y2006 = \"https://www.ptt.cc/bbs/movie/M.1359177381.A.2E7.html\"\n",
    "# y2012 = \"https://www.ptt.cc/bbs/movie/M.1356920875.A.E27.html\""
   ]
  }
 ],
 "metadata": {
  "anaconda-cloud": {},
  "kernelspec": {
   "display_name": "Python [Root]",
   "language": "python",
   "name": "Python [Root]"
  },
  "language_info": {
   "codemirror_mode": {
    "name": "ipython",
    "version": 2
   },
   "file_extension": ".py",
   "mimetype": "text/x-python",
   "name": "python",
   "nbconvert_exporter": "python",
   "pygments_lexer": "ipython2",
   "version": "2.7.12"
  }
 },
 "nbformat": 4,
 "nbformat_minor": 0
}
