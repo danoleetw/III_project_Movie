{
 "cells": [
  {
   "cell_type": "code",
   "execution_count": null,
   "metadata": {
    "collapsed": true
   },
   "outputs": [],
   "source": [
    "\"\"\"\n",
    "Created on Mon Oct 17 14:23:42 2016\n",
    "ver 1.0.0 : 抓取開眼網站單部電影頁面資訊，並寫進檔案裡\n",
    "@author: dano\n",
    "\n",
    "\"\"\"\n",
    "import requests as r\n",
    "import csv\n",
    "\n",
    "headers = {\n",
    "    'User-Agent':'Mozilla/5.0 (Windows NT 6.1; WOW64) AppleWebKit/537.36 (KHTML, like Gecko) Chrome/52.0.2743.116 Safari/537.36',\n",
    "}\n",
    "\n",
    "#抓取頁面並存檔\n",
    "def atmovies_crawler(url_in):\n",
    "    url_title = 'http://app2.atmovies.com.tw/film/'\n",
    "    url = url_title + url_in + '/'\n",
    "    res = r.get(url, headers=headers)\n",
    "    res.encoding = 'utf-8'\n",
    "    file_id =  'e:/test/' + url_in +'.html'\n",
    "    f = open(file_id, 'w')\n",
    "    f.write(res.content)\n",
    "    f.close()\n",
    "    print file_id\n",
    "\n",
    "#MAIN:匯入佩琳的清單\n",
    "f = open('e:/test/all_movie_1016.csv','r')\n",
    "with f as csvfile:\n",
    "    reader = csv.reader(csvfile)\n",
    "    rows = [row[1] for row in reader]\n",
    "f.close()\n",
    "for row in rows:\n",
    "    atmovies_crawler(row)\n",
    "print \"-------------------結束啦!!!thank god!!!---------------\""
   ]
  }
 ],
 "metadata": {
  "anaconda-cloud": {},
  "kernelspec": {
   "display_name": "Python [Root]",
   "language": "python",
   "name": "Python [Root]"
  },
  "language_info": {
   "codemirror_mode": {
    "name": "ipython",
    "version": 2
   },
   "file_extension": ".py",
   "mimetype": "text/x-python",
   "name": "python",
   "nbconvert_exporter": "python",
   "pygments_lexer": "ipython2",
   "version": "2.7.12"
  }
 },
 "nbformat": 4,
 "nbformat_minor": 0
}
