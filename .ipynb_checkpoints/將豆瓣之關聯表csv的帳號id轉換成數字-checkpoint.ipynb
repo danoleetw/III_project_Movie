{
 "cells": [
  {
   "cell_type": "code",
   "execution_count": null,
   "metadata": {
    "collapsed": true
   },
   "outputs": [],
   "source": [
    "# -*- coding: utf-8 -*-\n",
    "\"\"\"\n",
    "ver 1.0.3: 將豆瓣之關聯表csv的帳號id轉換成數字\n",
    "@author: dano\n",
    "date:2016.11.3\n",
    "\"\"\"\n",
    "\n",
    "import csv\n",
    "import os\n",
    "#抓佩琳做好的關連表中的user_id出來\n",
    "listFile = open(r'e:/douban-CFR.csv','r')\n",
    "with listFile as csvfile:\n",
    "    reader = csv.reader(csvfile)\n",
    "    data_c = [r for r in reader]\n",
    "    \n",
    "#刪除重複user_id\n",
    "rows = [r[4] for r in data_c]\n",
    "rows2 = {}.fromkeys(rows).keys()\n",
    "#給user_id流水號(從0開始)\n",
    "list_new = {}\n",
    "for n, r in enumerate(rows2):\n",
    "    list_new[r]= n\n",
    "#將流水號塞入原list中\n",
    "for r in data_c:\n",
    "    r = r.insert(5,list_new[r[4]])\n",
    "#以下為表頭，若要去跑spark，別加\n",
    "title = ('', 'IMDB', 'movie_id', 'rating', 'user', 'num')\n",
    "data_c.insert(0,title)\n",
    "#存檔\n",
    "with open(r'e:\\douban-CFR_new.csv','wb') as f:\n",
    "    w = csv.writer(f)\n",
    "    w.writerows(data_c)\n",
    "#將user_id流水號對照表存出至csv    \n",
    "with open(r'e:/name_id.csv','w') as nameIdList:\n",
    "    w = csv.writer(nameIdList)\n",
    "    w.writerows(list_new)"
   ]
  }
 ],
 "metadata": {
  "anaconda-cloud": {},
  "kernelspec": {
   "display_name": "Python [Root]",
   "language": "python",
   "name": "Python [Root]"
  },
  "language_info": {
   "codemirror_mode": {
    "name": "ipython",
    "version": 2
   },
   "file_extension": ".py",
   "mimetype": "text/x-python",
   "name": "python",
   "nbconvert_exporter": "python",
   "pygments_lexer": "ipython2",
   "version": "2.7.12"
  }
 },
 "nbformat": 4,
 "nbformat_minor": 0
}
