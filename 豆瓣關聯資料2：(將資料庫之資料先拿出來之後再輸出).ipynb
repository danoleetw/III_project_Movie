{
 "cells": [
  {
   "cell_type": "code",
   "execution_count": null,
   "metadata": {
    "collapsed": true
   },
   "outputs": [],
   "source": [
    "# -*- coding: utf-8 -*-\n",
    "\"\"\"\n",
    "Created on 2016/10/30\n",
    "ver 1.0.0 : \n",
    "從mongodb取出資料csv檔轉成 { 豆瓣電影id, IMDB, 評分人, 評分分數 }\n",
    "@author: dano\n",
    "\"\"\"\n",
    "\n",
    "import csv\n",
    "import os\n",
    "#先將檔案取出讀入list中\n",
    "douban = r'E:\\test\\user-ok.csv'\n",
    "data_u = []\n",
    "with open(douban, 'r') as csvfile_u:\n",
    "    reader_u = csv.reader(csvfile_u)\n",
    "    for row in reader_u:\n",
    "        data_u.append(row)\n",
    "#因為匯出的檔案有時候會有奇怪的字，因此先取代掉\n",
    "data_u[0][0] = data_u[0][0].replace('\\xef\\xbb\\xbf','') \n",
    "\n",
    "users_list = []\n",
    "for row in data_u:    \n",
    "    movie_id = row[0]#這是豆瓣id\n",
    "    imdb = row[1].replace('http://www.imdb.com/title/tt','')#去掉連結留下數字\n",
    "    try:\n",
    "#因為抓成csv使得這段review資料已成文字，這邊是抓出評論的key:value，刪除不必要的文字\n",
    "        alist = row[2].replace('\"','').replace('[{','').replace('}]','').replace('},{',',').split(',')\n",
    "        for a in alist:\n",
    "            blist=[]\n",
    "            clist = a.split(':')\n",
    "            blist.append(movie_id)\n",
    "            blist.append(imdb)\n",
    "            blist.append(clist[0])\n",
    "            blist.append(clist[1])\n",
    "            users_list.append(blist)\n",
    "#因為review有空值會報錯，故要用try接\n",
    "      except IndexError as e:\n",
    "        pass\n",
    "    users_list.append(blist)\n",
    "#寫入檔案裡\n",
    "output = open(r'douban關聯資料2.csv','w')\n",
    "w = csv.writer(output)\n",
    "w.writerows(users_list)\n",
    "output.close()"
   ]
  }
 ],
 "metadata": {
  "anaconda-cloud": {},
  "kernelspec": {
   "display_name": "Python [Root]",
   "language": "python",
   "name": "Python [Root]"
  },
  "language_info": {
   "codemirror_mode": {
    "name": "ipython",
    "version": 2
   },
   "file_extension": ".py",
   "mimetype": "text/x-python",
   "name": "python",
   "nbconvert_exporter": "python",
   "pygments_lexer": "ipython2",
   "version": "2.7.12"
  }
 },
 "nbformat": 4,
 "nbformat_minor": 0
}
